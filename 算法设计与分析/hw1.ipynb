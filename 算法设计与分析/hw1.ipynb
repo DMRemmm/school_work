{
 "cells": [
  {
   "cell_type": "markdown",
   "metadata": {},
   "source": [
    "## algorithm design and anlysis-2025 spring  homework 1 \n",
    "**Deadline**：2025.5.14\n",
    "\n",
    "**name**:\n",
    "\n",
    "\n",
    "note：\n",
    "---\n",
    "1. 带有\\*的题目，申请免上课的同学，必须完成，其他同学选作；\n",
    "2. 请独立完成，如求助了他人或者大模型，请著明，并且不可省略算法分析部分；\n",
    "4. 如若作答有雷同，全部取消成绩；\n",
    "3. 需要书面作答的题目，可以通过引用图片的形式添加，但是注意上传项目时包含所引用的图片的源文件；\n",
    "4. $log_n$ 默认表示$log_2{n}$;"
   ]
  },
  {
   "cell_type": "markdown",
   "metadata": {},
   "source": [
    "## 问题 1\n",
    "\n",
    "对于下面的每一对表达式(A, B), A是否能表示为B的 $\\Theta, \\Omega ,O$形式. 请注意, 这些关系中的零个、一个或多个可能成立。列出所有正确的。经常发生一些学生会,把指示写错, 所以请把关系写完整, 例如: $A = O(B),  A =\\Theta(B)$, 或$A = \\Omega(B)$。\n",
    "\n",
    "1. $A=n^2-100n, B=n^2$\n",
    "2. $A=logn, B=log_{1.2}n$\n",
    "3. $A=3^{2n}, B=2^{4n}$\n",
    "4. $A=2^{logn}, B=n$\n",
    "5. $A=\\log{\\log}{n},B=10^{10^{100}}$"
   ]
  },
  {
   "cell_type": "markdown",
   "metadata": {},
   "source": [
    "can refer a handwritten picture, pleas upload the picture in /fig/xxx.png\n",
    "answer:\n",
    "![jupyter](http://localhost:8888/notebooks/算法设计与分析/fig/1-1.jpg)"
   ]
  },
  {
   "cell_type": "markdown",
   "metadata": {},
   "source": [
    "## 问题 2：\n",
    "\n",
    "假设有函数 $f$ 和 $g$ 使得 $f(n)$ = $O(g(n))$ 对于下面的每一个陈述, 请判断对错, 如果正确请给出证明, 否则请给出一个反例。\n",
    "\n",
    "1. $\\log{f(n)}$ = $O(\\log(1+g(n)))$\n",
    "2. $3^{f(n)}=O(3^{g(n)})$\n",
    "3. $(f(n))^2=O((g(n))^2)$ "
   ]
  },
  {
   "cell_type": "markdown",
   "metadata": {},
   "source": [
    "you can refer a handwritten picture, pleas upload the picture in /fig/xxx.png\n",
    "answer:\n",
    "![jupyter](./fig/1-2.jpg)"
   ]
  },
  {
   "cell_type": "markdown",
   "metadata": {},
   "source": [
    "## 问题 3\n",
    "\n",
    "根据下列递归公式, 计算下列 $T(n)$ 对应的的渐近上界。要求所求的边界尽可能的紧（tight）, 请写明步骤。\n",
    "\n",
    "1. $T(1)=1; T(n)=T(n/4)+1$ for $n>1$\n",
    "2. $T(1)=1;T(n)=3T(n/3)+n^2$ for $n>1$\n",
    "3. $T(1)=1;T(n)=T(2n/3)+1$ for $n>1$\n",
    "4. $T(1)=1;T(n)=5T(n/4)+n$ for $n>1$\n",
    "5. $T(n)=1 \\ for\\ n \\le 2 ; T(n)=T(\\sqrt{n})+1 \\ for \\ n>2$"
   ]
  },
  {
   "cell_type": "markdown",
   "metadata": {},
   "source": [
    "can refer a handwritten picture, pleas upload the picture in /fig/xxx.png\n",
    "answer:\n",
    "![jupyter](http://localhost:8888/notebooks/算法设计与分析/fig/1-3.jpg)"
   ]
  },
  {
   "cell_type": "markdown",
   "metadata": {},
   "source": [
    "## 问题 4：\n",
    "\n",
    "给定一个包含n个元素的数组 `profits` , 它的第 `i` 个元素 `profits[i]` 表示一支股票第 `i` 天的**收益**（正数表示涨, 负数表示跌）。你只能选择 **某一天** 买入这只股票, 并选择在 **未来的某一个不同的日子** 卖出该股票。\n",
    "\n",
    "1. 设计一个算法来计算你所能获取的最大利润和对应买入和卖出的日期。请分析算法方案, 计算其时间复杂度, 并且使用python编程实现该算法。\n",
    "\n",
    "2. \\* 设计一个时间复杂度为 $O(n)$的算法实现该算法\n",
    "\n",
    "e.g. :\n",
    "---\n",
    "profits=[3,2,1,-7,5,2,-1,3,-1], 第5天买入, 第8天卖出, 收益最大：9\n",
    "\n"
   ]
  },
  {
   "cell_type": "markdown",
   "metadata": {},
   "source": [
    "idea:\n",
    "    核心思想是遍历整个数组，同时跟踪当前能够获得的最大利润以及对应的买入和卖出位置。如果加上当前元素的利润比当前的 temp_profit 大，或者 temp_profit 是负数（意味着之前的序列是亏损的），则更新 temp_profit 为当前元素的利润或 temp_profit 加上当前元素的利润。如果 temp_profit 大于 best_profit，则更新 best_profit 为 temp_profit，并记录当前的买入和卖出位置。如果 temp_profit 小于0，说明从 buy_index 到当前位置的序列是亏损的，因此将 buy_index 更新为当前位置的下一个位置，并将 temp_profit 重置为0。\n",
    "    "
   ]
  },
  {
   "cell_type": "code",
   "execution_count": 2,
   "metadata": {},
   "outputs": [
    {
     "name": "stdout",
     "output_type": "stream",
     "text": [
      "最大利润:9, 买入日期: 5, 卖出日期: 8\n"
     ]
    }
   ],
   "source": [
    "# add your idea\n",
    "\n",
    "# add your code\n",
    "def calculate_max_gain(prices):\n",
    "    if not prices:\n",
    "        return 0, -1, -1\n",
    "\n",
    "    best_profit = float('-inf')\n",
    "    temp_profit = 0\n",
    "    buy_index = 0\n",
    "    best_buy_index = 0\n",
    "    best_sell_index = 0\n",
    "\n",
    "    for day in range(len(prices)):\n",
    "        temp_profit = max(prices[day], temp_profit + prices[day])\n",
    "        if temp_profit > best_profit:\n",
    "            best_profit = temp_profit\n",
    "            best_buy_index = buy_index\n",
    "            best_sell_index = day\n",
    "        if temp_profit < 0:\n",
    "            buy_index = day + 1\n",
    "            temp_profit = 0\n",
    "\n",
    "    if best_buy_index == best_sell_index:\n",
    "        return 0, -1, -1\n",
    "\n",
    "    return best_profit, best_buy_index, best_sell_index\n",
    "\n",
    "\n",
    "stock_prices = [3, 2, 1, -7, 5, 2, -1, 3, -1]\n",
    "optimal_gain, purchase_day, sale_day = calculate_max_gain(stock_prices)\n",
    "print(f\"最大利润:{optimal_gain}, 买入日期: {purchase_day + 1}, 卖出日期: {sale_day + 1}\")"
   ]
  },
  {
   "cell_type": "code",
   "execution_count": null,
   "metadata": {},
   "outputs": [],
   "source": [
    "# an algorithm with O(n)\n",
    "    整个算法的时间复杂度是 O(n)，因为它只需要遍历一次数组即可找到最大利润和对应的买入卖出位置。"
   ]
  },
  {
   "cell_type": "markdown",
   "metadata": {},
   "source": [
    "## 问题 5：\n",
    "\n",
    "观察下方的分治算法（divide-and-conquer algorithm）的伪代码, 回答下面问题\n",
    "\n",
    "```latex\n",
    "DoSomething(A,p,r)\n",
    "-----\n",
    "n := r-p+1\n",
    "if n=2 and A[p]>A[r] then\n",
    "    swap A[p] and A[r]\n",
    "else if n >= 3 then\n",
    "    m = ceil(2n/3)\n",
    "    DoSomething(A,p,p+m-1)\n",
    "    DoSomething(A,r-m+1,r)\n",
    "    DoSomething(A,p,p+m-1)  \n",
    "    \n",
    "---\n",
    "first call: DoSomething(A,1,n)\n",
    "```\n",
    "\n",
    "note：$ceil(2n/3)=\\left\\lceil {2n/3} \\right\\rceil$；$:=$ 表示赋值, 等价于 $\\to$；A是一个包含n的整数元素的数组, \n",
    "\n",
    "1. 写出该算法时间复杂度的递归公式, 并求解其对应的渐进表示\n",
    "2. 描述一下该算法的功能, 并判断是否是最高效的解决方案\n",
    "3. 使用python编程实现上述算法或其对应的更高效版本的算法\n"
   ]
  },
  {
   "cell_type": "markdown",
   "metadata": {},
   "source": [
    "1.写出该算法时间复杂度的递归公式, 并求解其对应的渐进表示\n",
    "![jupyter](http://localhost:8888/notebooks/算法设计与分析/fig/1-5-1.jpg)"
   ]
  },
  {
   "cell_type": "markdown",
   "metadata": {},
   "source": [
    "answer:该算法的功能是对一个数组进行排序、搜索或其他操作。算法通过递归地将数组分成更小的部分来处理，直到每个部分足够小（小于等于3），然后直接\n",
    "    处理这些小部分。这个算法是否最高效取决于具体的操作和问题。对于某些问题，如快速排序的平均情况，这种分治方法是非常高效的。然而，对于其他\n",
    "    问题，可能存在更高效的算法。例如，对于排序问题，如果数据已经部分有序，那么使用插入排序或冒泡排序可能更有效。此外，对于某些问题，线性时\n",
    "    间算法（如计数排序、基数排序）可能比分治算法更优。"
   ]
  },
  {
   "cell_type": "code",
   "execution_count": 3,
   "metadata": {},
   "outputs": [
    {
     "name": "stdout",
     "output_type": "stream",
     "text": [
      "Sorted array is: [3, 9, 10, 27, 38, 43, 82]\n"
     ]
    }
   ],
   "source": [
    "# add your idea here\n",
    "    \n",
    "    \n",
    "# add your code here\n",
    "def merge_sort(arr):\n",
    "    if len(arr) > 1:\n",
    "        mid = len(arr) // 2\n",
    "        left_half = arr[:mid]\n",
    "        right_half = arr[mid:]\n",
    "\n",
    "        merge_sort(left_half)\n",
    "        merge_sort(right_half)\n",
    "\n",
    "        i = j = k = 0\n",
    "\n",
    "        while i < len(left_half) and j < len(right_half):\n",
    "            if left_half[i] < right_half[j]:\n",
    "                arr[k] = left_half[i]\n",
    "                i += 1\n",
    "            else:\n",
    "                arr[k] = right_half[j]\n",
    "                j += 1\n",
    "            k += 1\n",
    "\n",
    "        while i < len(left_half):\n",
    "            arr[k] = left_half[i]\n",
    "            i += 1\n",
    "            k += 1\n",
    "\n",
    "        while j < len(right_half):\n",
    "            arr[k] = right_half[j]\n",
    "            j += 1\n",
    "            k += 1\n",
    "\n",
    "# 示例\n",
    "arr = [38, 27, 43, 3, 9, 82, 10]\n",
    "merge_sort(arr)\n",
    "print(\"Sorted array is:\", arr)\n",
    "\n",
    "# your algorithm time complexity is :由于归并排序的每一步（分解、递归排序、合并）都需要 O(n) 的时间，而递归的深度是 O(logn)，所以总的时间复杂度是 O(nlogn)。"
   ]
  },
  {
   "cell_type": "markdown",
   "metadata": {},
   "source": [
    "## 问题 6：\n",
    "\n",
    "给定一个大小为 `n` 的数组 `nums` , 返回其中的多数元素。多数元素是指在数组中出现次数 **大于** `⌊ n/2 ⌋` 的元素。\n",
    "\n",
    "你可以假设数组是非空的, 并且给定的数组总是存在多数元素。\n",
    "\n",
    "1. 设计一个算法找到给定数组的多数元素, 分析算法设计思路, 计算算法时间复杂度, 使用python编程实现\n",
    "2. \\* 设计时间复杂度为 O(n)、空间复杂度为 O(1) 的算法解决此问题, 分析算法设计思路, 使用python编程实现\n",
    "\n",
    "e.g.:\n",
    "---\n",
    "1. nums=[3,2,3], 返回3\n",
    "2. nums=[2,2,1,1,1,2,2], 返回2\n"
   ]
  },
  {
   "cell_type": "markdown",
   "metadata": {},
   "source": [
    "idea： 1.使用哈希表记录频率：算法首先遍历数组，使用一个哈希表（在Python中为字典）来记录每个元素出现的次数。这一步的目的是为了快速查找每个元素\n",
    "    的出现频率。\n",
    "    2.查找多数元素：在记录完所有元素的出现频率后，算法再次遍历哈希表，检查是否有任何元素的出现次数超过数组长度的一半。如果有，那么这个元素\n",
    "    就是所谓的“多数元素”，算法返回这个元素。"
   ]
  },
  {
   "cell_type": "code",
   "execution_count": 5,
   "metadata": {},
   "outputs": [
    {
     "name": "stdout",
     "output_type": "stream",
     "text": [
      "3\n",
      "2\n"
     ]
    }
   ],
   "source": [
    "# add your idea here\n",
    "   \n",
    "    \n",
    "# add your code here\n",
    "def find_dominant_value(numbers):\n",
    "    frequency = {}\n",
    "    for value in numbers:\n",
    "        if value in frequency:\n",
    "            frequency[value] += 1\n",
    "        else:\n",
    "            frequency[value] = 1\n",
    "\n",
    "    for value, frequency_count in frequency.items():\n",
    "        if frequency_count > len(numbers) // 2:\n",
    "            return value\n",
    "\n",
    "# 示例\n",
    "sequence1 = [3, 2, 3]\n",
    "print(find_dominant_value(sequence1))\n",
    "\n",
    "sequence2 = [2, 2, 1, 1, 1, 2, 2]\n",
    "print(find_dominant_value(sequence2))\n",
    "\n",
    "# your algorithm time complexity is :\n",
    "#算法的总时间复杂度为O(n)。因为算法首先遍历数组，对每个元素进行哈希表的查找和更新操作。而在记录完所有元素的出现频率后，算法再次遍历哈希表。"
   ]
  },
  {
   "cell_type": "markdown",
   "metadata": {},
   "source": [
    "idea for 2\\*："
   ]
  },
  {
   "cell_type": "code",
   "execution_count": null,
   "metadata": {},
   "outputs": [],
   "source": [
    "# algorithm time complexity：O(n), space complexity:O(1)\n",
    "# add your code here"
   ]
  },
  {
   "cell_type": "markdown",
   "metadata": {},
   "source": [
    "## 问题 7：\n",
    "\n",
    "给定一个包含不同整数元素的数组 $ A[1..n]$ ,并且满足条件：$A[1]>A[2]$ 并且 $A[n-1]<A[n]$; 规定：如果一个元素比它两边的邻居元素都小, 即：$A[x]<A[x-1], A[x]<A[x+1]$ , 称这个元素A[x]为“局部最小”。通过遍历一次数组, 我们可以很容易在 $O(n)$的时间复杂度下找到一个局部最小值, \n",
    "\n",
    "\n",
    "1. 分析该问题, 设计一个算法在$O(logn)$的时间复杂度下找到一个局部最小(返回数值), 要求：分析算法设计思路, 并且使用python编程实现\n",
    "2. \\* 设计算法找出所有局部最小值, 分析算法设计思路, 并使用python编程实现\n",
    "\n",
    "e.g.:\n",
    "---\n",
    "A=[9, 3, 7, 2, 1, 4, 5 ] 时,  局部最小元素为 3, 1\n"
   ]
  },
  {
   "cell_type": "markdown",
   "metadata": {},
   "source": [
    "idea："
   ]
  },
  {
   "cell_type": "code",
   "execution_count": 6,
   "metadata": {},
   "outputs": [
    {
     "name": "stdout",
     "output_type": "stream",
     "text": [
      "局部最小值: 2\n",
      "局部最小值: 10\n"
     ]
    }
   ],
   "source": [
    "# add your idea here\n",
    "#     使用二分查找来定位可能的局部最小值。由于数组是单调递增的，我们可以从中间元素开始，检查它是否比它的邻居小。\n",
    "    \n",
    "# add your code here\n",
    "def find_local_minimum(arr):\n",
    "    left, right = 0, len(arr) - 1\n",
    "\n",
    "    while left < right:\n",
    "        mid = (left + right) // 2\n",
    "        if arr[mid] > arr[mid + 1]:\n",
    "            left = mid + 1\n",
    "        else:\n",
    "            right = mid\n",
    "\n",
    "    return arr[left]\n",
    "\n",
    "\n",
    "# 示例\n",
    "arr1 = [4, 3, 2, 5, 6]\n",
    "print(\"局部最小值:\", find_local_minimum(arr1))\n",
    "\n",
    "arr2 = [10, 20, 30, 20, 10, 15]\n",
    "print(\"局部最小值:\", find_local_minimum(arr2))\n",
    "# your algorithm time complexity is :"
   ]
  },
  {
   "cell_type": "markdown",
   "metadata": {},
   "source": [
    "idea:"
   ]
  },
  {
   "cell_type": "code",
   "execution_count": null,
   "metadata": {},
   "outputs": [],
   "source": [
    "# add your code here\n",
    "# your algorithm time complexity is :"
   ]
  },
  {
   "cell_type": "markdown",
   "metadata": {},
   "source": [
    "## 问题 8：\n",
    "\n",
    "给定包含n个不同数字的一组数, 寻找一种基于比较的算法在这组数中找到k个最小的数字, 并按顺序输出它们。\n",
    "\n",
    "1. 将n个数先进行排序, 然后按顺序输出最小的k个数。要求：选择合适的排序算法实现上述操作, 计算算法时间复杂度, 并使用python编程实现。\n",
    "2. 建立一个包含这n个数的堆（heap）, 并且调用 k 次Extract-min 按顺序输出最小的k个数。使用往空堆中不断插入元素的方法建立堆, 分析这种方法建堆的时间复杂度, 并使用python编程实现\n",
    "3. \\* 假设数组中包含的数据总数目超过了计算机的存储能力, 请设计一个算法, 找到这堆数据的前k小的数值, 计算时间复杂度, 并使用python实现该算法, 假设计算机一定能存储k个数据。\n",
    "\n",
    "e.g.：\n",
    "---\n",
    "数组arr=[5,4,3,2,6,1,88,33,22,107] 的前3个最小数据为：1, 2, 3\n"
   ]
  },
  {
   "cell_type": "markdown",
   "metadata": {},
   "source": [
    "idea："
   ]
  },
  {
   "cell_type": "code",
   "execution_count": 7,
   "metadata": {},
   "outputs": [
    {
     "name": "stdout",
     "output_type": "stream",
     "text": [
      "排序方法找到的前k个最小数为: [1, 2, 3]\n"
     ]
    }
   ],
   "source": [
    "# add your code here\n",
    "# 1.\n",
    "def find_k_smallest_sort(arr, k):\n",
    "    # 对数组进行排序\n",
    "    sorted_arr = sorted(arr)\n",
    "    # 返回前k个最小的数\n",
    "    return sorted_arr[:k]\n",
    "\n",
    "# 示例\n",
    "arr = [5, 4, 3, 2, 6, 1, 88, 33, 22, 107]\n",
    "k = 3\n",
    "print(\"排序方法找到的前k个最小数为:\", find_k_smallest_sort(arr, k))\n",
    "\n",
    "# your algorithm time complexity is :总时间复杂度是 O(nlogn)。"
   ]
  },
  {
   "cell_type": "code",
   "execution_count": 8,
   "metadata": {},
   "outputs": [
    {
     "name": "stdout",
     "output_type": "stream",
     "text": [
      "堆方法找到的前k个最小数为: [1, 2, 3]\n"
     ]
    }
   ],
   "source": [
    "# 2.\n",
    "import heapq\n",
    "\n",
    "def find_k_smallest_heap(arr, k):\n",
    "    # 返回前k个最小的数\n",
    "    return heapq.nsmallest(k, arr)\n",
    "\n",
    "# 示例\n",
    "arr = [5, 4, 3, 2, 6, 1, 88, 33, 22, 107]\n",
    "k = 3\n",
    "print(\"堆方法找到的前k个最小数为:\", find_k_smallest_heap(arr, k))\n",
    "\n",
    "# your algorithm time complexity is :使用往空堆中不断插入元素的方法建立堆的时间复杂度是 O(nlogn)。"
   ]
  },
  {
   "cell_type": "markdown",
   "metadata": {},
   "source": [
    "## 问题 9：\n",
    "\n",
    "**选择问题**:给定一个包含n个未排序值的数组A和一个$k≤n$的整数, 返回A中最小的第k项。\n",
    "\n",
    "在课堂上, 学了一个简单的O(n)随机算法来解决选择问题。事实上还有一种更复杂的最坏情况下时间复杂度为$O(n)$ 的选择算法。假设使用一个黑盒过程来实现这个O(n)选择算法: 给定一个数组A、 $p < r$ 和 k,  $BB(A, p, r, k)$ 可以在$O(r−p+ 1)$时间内找到并报告$A[p..r]$中第k小的项的下标。假设你可以在线性时间内处理Partition过程。\n",
    "\n",
    "1. 请分析如何修改 Quicksork 算法可以使其最差情况下的运行时间为 $O(nlogn)$, 使用伪代码实现, 并分析为何修改后的版本最差情况的运行时间为$O(nlogn)$\n",
    "\n",
    "note: 伪代码中, 你可以直接调用用` BB(A,p,r,k)`这个函数用于表示在最坏情况下时间复杂度为$O(n)$的选择算法；\n",
    "\n",
    "\n",
    "\n",
    "2. 找到一个更好的算法报告数组A中的前k小的项, 使用伪代码表示你的算法, 并分析你算法的时间复杂度。\n",
    "\n",
    "举例：A=[13, 3, 7, 9, 11, 1, 15, 2, 8, 10, 12, 16, 14, 5], 当k=4时, 应该报告1, 2, 3, 4\n",
    "\n",
    "note： 最直观的方法就是先将数组A排序, 然后从左向右报告其前k项, 这样操作的时间复杂度为$O(nlogn)$. 调用用` BB(A,p,r,k)`设计一个算法使其报告无序数组A的前k项, 满足时间复杂度好于$\\Theta(nlogn)$, 并且当$k=\\sqrt{n}$时, 你设计的算法时间复杂度应该为$\\Theta(n)$.\n",
    "\n",
    "\n",
    "\n",
    "3. 给定一个大小为n的数组, 找到一个 时间复杂度为$O(n log k)$ 的算法, 该算法将A中的元素重新排序, 使它们被划分为k个部分, 每个部分的元素小于或等于下一部分的元素。假设n和k都是2的幂。使用伪代码表示你的算法, 并分析时间复杂度。\n",
    "\n",
    "e.g.:\n",
    "---\n",
    "数组：[1,  3,  5,  7,  9,  11,  13,  15,  2,  4,  6,  8,  10,  12,  16,  14], k=4, \n",
    "\n",
    "对应重新排序的数组为：[1,  3,  2,  4]  [7,  6,  5,  8]  [12,  11,  10,  9]  [13,  14,  16,  15]\n",
    "\n",
    "\n"
   ]
  },
  {
   "cell_type": "markdown",
   "metadata": {},
   "source": [
    "idea："
   ]
  },
  {
   "cell_type": "code",
   "execution_count": 9,
   "metadata": {},
   "outputs": [
    {
     "ename": "SyntaxError",
     "evalue": "invalid syntax (<ipython-input-9-348df295d7cf>, line 3)",
     "output_type": "error",
     "traceback": [
      "\u001b[1;36m  File \u001b[1;32m\"<ipython-input-9-348df295d7cf>\"\u001b[1;36m, line \u001b[1;32m3\u001b[0m\n\u001b[1;33m    Quicksork(A, p, r):\u001b[0m\n\u001b[1;37m                       ^\u001b[0m\n\u001b[1;31mSyntaxError\u001b[0m\u001b[1;31m:\u001b[0m invalid syntax\n"
     ]
    }
   ],
   "source": [
    "# add your pseudo-code here\n",
    "# 1\n",
    "Quicksork(A, p, r):\n",
    "    if p < r:\n",
    "        q = BB(A, p, r, (r-p+1)/2)\n",
    "        A = Partition(A, p, r, q)\n",
    "        Quicksork(A, p, q-1)\n",
    "        Quicksork(A, q+1, r)\n",
    "        \n",
    "# your algorithm time complexity is :    \n",
    "#     Quicksort 是一个经典的分治算法，其时间复杂度取决于分区的选择。在最佳情况下，每次分区都是平衡的，即 q = (p + r) / 2。在这种情况下，每次\n",
    "#     递归调用处理的数组大小减半，因此时间复杂度为：T(n)=2T(n/2)+O(n)"
   ]
  },
  {
   "cell_type": "code",
   "execution_count": null,
   "metadata": {},
   "outputs": [],
   "source": [
    "# 2\n",
    "FindTopK(A, p, r, k):\n",
    "    if p < r:\n",
    "        q = BB(A, p, r, k)\n",
    "        A = Partition(A, p, r, q)\n",
    "        FindTopK(A, p, q-1, k)\n",
    "        FindTopK(A, q+1, r, k-1)\n",
    "        \n",
    "# your algorithm time complexity is :\n",
    "#     FindTopK 算法的目的是在数组中找到第 k 小的元素。它使用快速排序的分区方法，但只递归处理包含第 k 小元素的子数组。在最佳情况下，每次分区\n",
    "#     都能将第 k 小的元素精确地放在正确的位置，这样每次递归调用处理的数组大小大约减半，因此时间复杂度为：T(n)=2T(n/2)+O(n)"
   ]
  },
  {
   "cell_type": "code",
   "execution_count": null,
   "metadata": {},
   "outputs": [],
   "source": [
    "# 3\n",
    "DivideAndConquer(A, p, r, k):\n",
    "    if p < r:\n",
    "        q = BB(A, p, r, k)\n",
    "        A = Partition(A, p, r, q)\n",
    "        DivideAndConquer(A, p, q-1, k/2)\n",
    "        DivideAndConquer(A, q+1, r, k/2)\n",
    "        \n",
    "# your algorithm time complexity is :\n",
    "#     DivideAndConquer 算法在每次递归调用中都将问题规模减半，但与 Quicksort 不同的是，它在两个子问题中都递归调用，每个子问题处理大约一半的\n",
    "#     元素。这导致时间复杂度为：T(n)=2T(n/2)+O(n)\n"
   ]
  },
  {
   "cell_type": "markdown",
   "metadata": {},
   "source": [
    "## 问题 10：\n",
    "\n",
    "给定一个包含m个**字符串**的数组A, 其中不同的字符串可能有不同的字符数, 但数组中所有字符串的字符总数为n。设计一个算法在 $O(n)$ 时间内对字符串进行排序, 分析算法设计方案, 计算其时间复杂度, 并基于python编程实现该算法。请注意, 假设字符串只包含\"a\",\"b\",...,\"z\", \n",
    "\n",
    "\n",
    "\n",
    "举例1：数组A=[\"a\", \"da\", \"bde\", \"ab\", \"bc\", \"abdc\", \"cdba\"], 排序后的数组应该为：['a', 'ab', 'abdc', 'bc', 'bde', 'cdba', 'da']\n",
    "\n",
    "\n",
    "\n",
    "举例2：数组A=['ab', 'a', 'b', 'abc', 'ba', 'c'], 排序后的数组应该为：\n",
    "\n",
    "['a', 'ab', 'abc', 'b', 'ba', 'c']\n",
    "\n",
    "\n",
    "\n",
    "举例3：数组A=['aef', 'yzr', 'wr', 'ab', 'bhjc', 'lkabdc', 'pwcdba'],  排序后的数组应该为：['ab', 'aef', 'bhjc', 'lkabdc', 'pwcdba', 'wr', 'yzr']\n",
    "\n",
    "\n",
    "\n",
    "note：\n",
    "\n",
    "-  两个字符之间的比较可以考虑比较他们对应的ASCII码值；\n",
    "- python中可以使用`ord(\"a\")`返回字符 “a”对应的ASCII值"
   ]
  },
  {
   "cell_type": "markdown",
   "metadata": {},
   "source": [
    "idea:\n",
    "    首先，找到列表中最长的字符串长度 max_length。然后，从最长字符串的最后一个字符开始，向前对每个字符进行排序。对于每个字符位置，使用一个计数数组 count 来存储每个字符索引对应的字符串列表。遍历输入列表 A，根据当前字符位置的字符，将字符串分配到 count 数组的相应位置。如果字符串长度小于当前字符位置，将字符串分配到 count[0]。最后，将 count 数组中的所有字符串列表合并回 A，并重复上述过程，直到处理完第一个字符。"
   ]
  },
  {
   "cell_type": "code",
   "execution_count": 10,
   "metadata": {},
   "outputs": [
    {
     "name": "stdout",
     "output_type": "stream",
     "text": [
      "['a', 'ab', 'abdc', 'bc', 'bde', 'cdba', 'da']\n",
      "['a', 'ab', 'abc', 'b', 'ba', 'c']\n",
      "['ab', 'aef', 'bhjc', 'lkabdc', 'pwcdba', 'wr', 'yzr']\n"
     ]
    }
   ],
   "source": [
    "# add your code here\n",
    "def custom_sort(str_list):\n",
    "    if not str_list:\n",
    "        return []\n",
    "    # 确定字符串列表中最长字符串的长度\n",
    "    length_of_longest = max(len(item) for item in str_list)\n",
    "    # 从最长字符串的最后一个字符开始进行排序\n",
    "    for char_index in range(length_of_longest - 1, -1, -1):\n",
    "        bucket = [[] for _ in range(26)]\n",
    "        for text in str_list:\n",
    "            if char_index < len(text):\n",
    "                # 根据字符获取索引\n",
    "                char_index_value = ord(text[char_index]) - ord('a')\n",
    "                bucket[char_index_value].append(text)\n",
    "            else:\n",
    "                # 如果字符串长度不足，则放入第 0 组\n",
    "                bucket[0].append(text)\n",
    "        str_list = []\n",
    "        for bucket_group in bucket:\n",
    "            str_list.extend(bucket_group)\n",
    "    return str_list\n",
    "\n",
    "# 测试数据\n",
    "list_of_str1 = [\"a\", \"da\", \"bde\", \"ab\", \"bc\", \"abdc\", \"cdba\"]\n",
    "list_of_str2 = ['ab', 'a', 'b', 'abc', 'ba', 'c']\n",
    "list_of_str3 = ['aef', 'yzr', 'wr', 'ab', 'bhjc', 'lkabdc', 'pwcdba']\n",
    "\n",
    "print(custom_sort(list_of_str1))\n",
    "print(custom_sort(list_of_str2))\n",
    "print(custom_sort(list_of_str3))\n",
    "\n",
    "# your algorithm time complexity is :\n",
    "#     整个算法包括外层循环：max_length 次（从最后一个字符到第一个字符）。内层循环：对于每个字符位置，需要遍历整个字符串列表 A。\n",
    "#     合并操作：将count 数组中的所有字符串列表合并回 A，这个操作的时间复杂度是 O(m)，其中 m 是字符串列表 A 的长度。\n",
    "#     故总的时间复杂度为 O(max_length * m)，其中 max_length 是最长字符串的长度，m 是字符串列表 A 的长度。"
   ]
  }
 ],
 "metadata": {
  "kernelspec": {
   "display_name": "Python 3",
   "language": "python",
   "name": "python3"
  },
  "language_info": {
   "codemirror_mode": {
    "name": "ipython",
    "version": 3
   },
   "file_extension": ".py",
   "mimetype": "text/x-python",
   "name": "python",
   "nbconvert_exporter": "python",
   "pygments_lexer": "ipython3",
   "version": "3.7.0"
  }
 },
 "nbformat": 4,
 "nbformat_minor": 2
}
