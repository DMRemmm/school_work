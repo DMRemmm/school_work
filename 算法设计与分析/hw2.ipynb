{
 "cells": [
  {
   "cell_type": "markdown",
   "metadata": {},
   "source": [
    "## algorithm design and anlysis-2025 spring  homework 2\n",
    "**Deadline**：2025.5.14\n",
    "\n",
    "**name**:\n",
    "\n",
    "\n",
    "note：\n",
    "---\n",
    "1. 带有\\*的题目，申请免上课的同学，必须完成，其他同学选作；\n",
    "2. 请独立完成，如求助了他人或者大模型，请著明，并且不可省略算法分析部分；\n",
    "4. 如若作答有雷同，全部取消成绩；\n",
    "3. 需要书面作答的题目，可以通过引用图片的形式添加，但是注意上传项目时包含所引用的图片的源文件；\n",
    "4. $log_n$ 默认表示$log_2{n}$;"
   ]
  },
  {
   "cell_type": "markdown",
   "metadata": {},
   "source": [
    "## 问题 1  \n",
    "\n",
    "> 给定一个已排序的链表的头 `head` ， *删除所有重复的元素，使每个元素只出现一次* 。返回 *已排序的链表* 。链表的类如下所示：\n",
    "\n",
    "```python\n",
    "class NodeList:\n",
    "    def __init__(self, val=None, right=None):\n",
    "        self.val   = val\n",
    "        self.right = right\n",
    "```\n",
    "\n",
    "输入是一个数组，你首先需要将数组转化为链表，然后删除链表中的重复元素，再遍历链表元素，以一个数组的形式返回。请设计一个算法解决上述任务，分析算法设计思路，计算时间复杂度, 并基于python编程实现。\n",
    "\n",
    "e.g.  输入：head=[1, 1, 2, 3, 3]   输出：[1, 2, 3]\n",
    "\n",
    "![image-20240502110020439](./fig/hw2q1.png)\n",
    "\n"
   ]
  },
  {
   "cell_type": "markdown",
   "metadata": {},
   "source": [
    "idea："
   ]
  },
  {
   "cell_type": "code",
   "execution_count": 5,
   "metadata": {},
   "outputs": [
    {
     "name": "stdout",
     "output_type": "stream",
     "text": [
      "[1, 2, 3]\n"
     ]
    }
   ],
   "source": [
    "# add your idea here\n",
    "#     问题要求输入是数组，中间把数组转化成链表，去除掉重复的元素，在以数组形式输出。则可以用三个函数来实现所需的功能，分别是：接收数组生成链\n",
    "#     表的 create_linked_list(lst)，删除重复元素的deleteDuplicates(head)，输出数组的linked_list_to_list(head)。\n",
    "    \n",
    "# add your code here\n",
    "class NodeList:\n",
    "    def __init__(self, val=None, right=None):\n",
    "        self.val = val\n",
    "        self.right = right\n",
    "\n",
    "# 删除链表中的重复元素，并返回新的链表头节点。\n",
    "def deleteDuplicates(head):\n",
    "    if not head:\n",
    "        return head\n",
    "    \n",
    "    seen = set()\n",
    "    dummy = NodeList(0, head)\n",
    "    prev = dummy\n",
    "    \n",
    "    while head:\n",
    "        if head.val in seen:\n",
    "            prev.right = head.right\n",
    "        else:\n",
    "            seen.add(head.val)\n",
    "            prev = prev.right\n",
    "        head = head.right\n",
    "    \n",
    "    return dummy.right\n",
    "\n",
    "# 接收一个数组 lst，创建一个链表并返回链表的头节点。\n",
    "def create_linked_list(lst):\n",
    "    if not lst:\n",
    "        return None\n",
    "    head = NodeList(lst[0])\n",
    "    current = head\n",
    "    for val in lst[1:]:\n",
    "        current.right = NodeList(val)\n",
    "        current = current.right\n",
    "    return head\n",
    "\n",
    "# 接收一个链表头节点，遍历链表并将每个节点的值添加到一个列表中，返回这个列表。\n",
    "def linked_list_to_list(head):\n",
    "    result = []\n",
    "    while head:\n",
    "        result.append(head.val)\n",
    "        head = head.right\n",
    "    return result\n",
    "\n",
    "# Example usage\n",
    "arr = [1, 1, 2, 3, 3]\n",
    "head = create_linked_list(arr)\n",
    "new_head = deleteDuplicates(head)\n",
    "result = linked_list_to_list(new_head)\n",
    "print(result)  # Output: [1, 2, 3]\n",
    "    \n",
    "    \n",
    "# your algorithm time complexity is:时间复杂度为O（n），其中 n 是链表的长度，因为整个算法需要遍历链表一次。\n"
   ]
  },
  {
   "cell_type": "markdown",
   "metadata": {},
   "source": [
    "# 问题 2  \n",
    "\n",
    "> 下面是一个经典的算法问题：\n",
    ">\n",
    "> - 给定包含n个整数的一个整数数组 `nums` 和一个整数目标值 `target`，请你在该数组中找出 **和为目标值** *`target`* 的那 **两个** 整数，并返回它们的**数组下标**。假设每种输入只会对应一个答案。但是，数组中同一个元素在答案里不能重复出现。你可以按任意顺序返回答案。\n",
    ">\n",
    "> 由于要多次查找数组中元素的位置，为了提高查询效率可以使用哈希表来存储数组中的数据，在哈希表中查询一个元素的复杂度为O(1)。 已知python中的字典是使用哈希表实现的，即使用`dict[key]`查询对应的value时间复杂度为O(1), python提供了查询字典是否包含某个key的功能：`key in dict`，时间复杂度也是O(1)\n",
    "\n",
    "请根据上面信息，设计一个时间复杂度为O(n) 的算法，解决上述算法问题\n",
    "\n",
    "e.g.   \n",
    "\n",
    "输入：nums=[2,7,11,15], target=9， 输出：[0，1]\n",
    "\n",
    "输入：nums=[3,2,4], target=6, 输出：[1,2]\n",
    "\n",
    "输入：nums=[3,3], target=6,  输出：[0,1]\n"
   ]
  },
  {
   "cell_type": "code",
   "execution_count": 6,
   "metadata": {},
   "outputs": [
    {
     "name": "stdout",
     "output_type": "stream",
     "text": [
      "[0, 1]\n",
      "[1, 2]\n",
      "[0, 1]\n"
     ]
    }
   ],
   "source": [
    "# add your idea here\n",
    "#     首先初始化一个空字典 hash_map 来存储数组元素及其索引。遍历数组 nums，对于每个元素 num：计算 complement = target - num，即目标值与当前\n",
    "#     元素的差值。检查 complement 是否存在于 hash_map 中：如果存在，返回 [hash_map[complement], i]，其中 i 是当前元素的索引。如果不存在，将\n",
    "#     当前元素及其索引存入 hash_map。如果遍历结束后没有找到符合条件的两个数，则返回空列表或错误信息。\n",
    "\n",
    "def two_sum(nums, target):\n",
    "    hash_map = {}\n",
    "    for i, num in enumerate(nums):\n",
    "        complement = target - num\n",
    "        if complement in hash_map:\n",
    "            return [hash_map[complement], i]\n",
    "        hash_map[num] = i\n",
    "    return []\n",
    "\n",
    "# Example usage\n",
    "print(two_sum([2, 7, 11, 15], 9))  # Output: [0, 1]\n",
    "print(two_sum([3, 2, 4], 6))       # Output: [1, 2]\n",
    "print(two_sum([3, 3], 6))          # Output: [0, 1]\n",
    "\n",
    "# your algorithm time complexity is: O(n)时间复杂度：O(n)，其中 n 是数组 nums 的长度，因为算法只需要遍历数组一次。"
   ]
  },
  {
   "cell_type": "markdown",
   "metadata": {},
   "source": [
    "## 问题 3:   \n",
    "\n",
    "> 栈是一种常用的数据结构，编译器中通常使用栈来实现表达式求值。\n",
    ">\n",
    "> 以表达式 $3+5 \\times 8-6$​ 为例。编译器使用两个栈来完成运算，即一个栈保持操作数，另一个栈保存运算符。\n",
    ">\n",
    "> 1. 从左向右遍历表达式，遇到数字就压入操作数栈；\n",
    ">\n",
    "> 2. 遇到运算符，就与运算符栈的栈顶元素进行比较。如果比运算符栈顶元素的优先级高，就将当前运算符压入栈；如果比运算符栈顶元素的优先级低或者相同，从运算符栈中取栈顶运算符，从操作数栈的栈顶取 2 个操作数，然后进行计算，再把计算完的结果压入操作数栈，继续比较。\n",
    ">\n",
    "> 下图是 $3+5 \\times 8-6$  这个表达式的计算过程：\n",
    "\n",
    "![figure](./fig/hw2q3.png)\n",
    "\n",
    "根据上述原理，请设计一个算法完成表达式的运算，当输入为表达式字符串，返回对应的计算结果。分析算法设计思路，计算时间复杂度，并基于python编程实现\n",
    "\n",
    "**note：**\n",
    "\n",
    "1. 假设输入的表达式只会出现加（“+”），减 “-”， 乘“*”，除 “/” 四个运算符, 表达式中只会出现正整数\n",
    "2. python中` str.isdigit()`函数可以判断字符串str是否为数字，\n",
    "\n",
    "\n",
    "\n",
    "e.g. :\n",
    "---\n",
    "\n",
    "1. 输入：“$3+5 * 8 -6$”   输出：37\n",
    "\n",
    "2. 输入：“$34+13*9 + 44-12/3$”  输出：191"
   ]
  },
  {
   "cell_type": "markdown",
   "metadata": {},
   "source": [
    "idea：首先初始化两个空栈：operands（操作数栈）和operators（运算符栈）。之后从左到右遍历表达式中的每个字符。如果字符是数字，将其转换为整数并\n",
    "    压入操作数栈。如果字符是运算符，则比较当前运算符与运算符栈顶运算符的优先级。如果当前运算符的优先级更高，将其压入运算符栈。如果当前运算\n",
    "    符的优先级更低或相同，从运算符栈中弹出栈顶运算符，并从操作数栈中弹出两个操作数，执行计算，然后将结果压入操作数栈。继续遍历直到表达式结\n",
    "    束。弹出所有剩余的运算符，并执行相应的计算。"
   ]
  },
  {
   "cell_type": "code",
   "execution_count": 7,
   "metadata": {},
   "outputs": [
    {
     "name": "stdout",
     "output_type": "stream",
     "text": [
      "37\n",
      "191\n"
     ]
    }
   ],
   "source": [
    "# add your idea here\n",
    "    \n",
    "    \n",
    "def calculate(expression):\n",
    "    # 定义运算符优先级\n",
    "    precedence = {'+': 1, '-': 1, '*': 2, '/': 2}\n",
    "    \n",
    "    # 初始化操作数栈和运算符栈\n",
    "    operands = []\n",
    "    operators = []\n",
    "    \n",
    "    # 遍历表达式中的每个字符\n",
    "    i = 0\n",
    "    while i < len(expression):\n",
    "        if expression[i].isdigit():\n",
    "            # 提取完整的数字\n",
    "            num = 0\n",
    "            while i < len(expression) and expression[i].isdigit():\n",
    "                num = num * 10 + int(expression[i])\n",
    "                i += 1\n",
    "            operands.append(num)\n",
    "            i -= 1\n",
    "        elif expression[i] in \"+-*/\":\n",
    "            # 处理运算符\n",
    "            while (operators and operators[-1] != '(' and\n",
    "                   precedence[operators[-1]] >= precedence[expression[i]]):\n",
    "                a = operands.pop()\n",
    "                b = operands.pop()\n",
    "                op = operators.pop()\n",
    "                operands.append(apply_operator(b, a, op))\n",
    "            operators.append(expression[i])\n",
    "        i += 1\n",
    "    \n",
    "    # 处理剩余的运算符\n",
    "    while operators:\n",
    "        a = operands.pop()\n",
    "        b = operands.pop()\n",
    "        op = operators.pop()\n",
    "        operands.append(apply_operator(b, a, op))\n",
    "    \n",
    "    return operands[0]\n",
    "\n",
    "def apply_operator(a, b, op):\n",
    "    if op == '+':\n",
    "        return a + b\n",
    "    elif op == '-':\n",
    "        return a - b\n",
    "    elif op == '*':\n",
    "        return a * b\n",
    "    elif op == '/':\n",
    "        return a // b\n",
    "\n",
    "# Example usage\n",
    "print(calculate(\"$3+5 * 8 -6\"))  # Output: 37\n",
    "print(calculate(\"$34+13*9 + 44-12/3\"))  # Output: 191\n",
    "\n",
    "\n",
    "    \n",
    "# your algorithm time complexity is: 时间复杂度为：O(n)。其中 n 是表达式的长度，因为算法需要遍历表达式中的每个字符一次。"
   ]
  },
  {
   "cell_type": "markdown",
   "metadata": {},
   "source": [
    "## 问题 4:  \n",
    "\n",
    "> 星球碰撞问题：现有n个星球，在同一条直线上运行，如数组A所示，元素的绝对值表示星球的质量，负数表示星球自右向左运动，正数表示星球自左向右运动，当两个星球相撞的时候，质量小的会消失，大的保持不变，**质量相同的两个星球碰撞后自右向左运动的星球消失，自左向右的星球保持不变**，假设所有星球的速度大小相同。\n",
    ">\n",
    "> $ A=[23,-8, 9, -3, -7, 9, -23, 22] $\n",
    "\n",
    "请设计一个算法模拟星球的运行情况，输出最终的星球存续情况（输出一个数组），分析算法设计思路，计算时间复杂度，并基于python编程实现。\n",
    "\n",
    "e.g.\n",
    "---\n",
    "1.  输入： A=[-3,-6,2,8, 5,-8,9,-2,1]， 输出：[-3, -6, 2, 8, 9, 1]\n",
    "\n",
    "2. 输入：A=[23,-8, 9, -3, -7, 9, -23, 22], 输出：[23, 22]\n",
    "\n"
   ]
  },
  {
   "cell_type": "code",
   "execution_count": 8,
   "metadata": {},
   "outputs": [
    {
     "name": "stdout",
     "output_type": "stream",
     "text": [
      "[-3, -6, 1]\n",
      "[-8, -3, -7, 9, 22]\n"
     ]
    }
   ],
   "source": [
    "# add your idea here\n",
    "#     我们可以使用栈来模拟星球的运行情况。栈中的每个元素代表一个星球，栈顶元素是当前最右边的星球。步骤如下：\n",
    "#     初始化一个空栈 stack。之后遍历数组 A 中的每个元素：如果当前元素是正数（向右运动），将其压入栈中。如果当前元素是负数（向左运动），\n",
    "#     则需要处理碰撞：检查栈顶元素（最右边的星球）：如果栈为空，或者栈顶元素是正数，或者当前元素的绝对值大于栈顶元素的绝对值，直接将当前\n",
    "#     元素压入栈中。如果当前元素的绝对值小于栈顶元素的绝对值，栈顶元素保持不变，当前元素消失。如果当前元素的绝对值等于栈顶元素的绝对值，\n",
    "#     且当前元素是负数，则栈顶元素消失，当前元素也消失。遍历结束后，栈中的元素即为最终的星球存续情况。\n",
    "    \n",
    "def asteroid_collision(asteroids):\n",
    "    stack = []\n",
    "    for asteroid in asteroids:\n",
    "        while stack and asteroid < 0 < stack[-1]:\n",
    "            if stack[-1] < -asteroid:\n",
    "                break\n",
    "            elif stack[-1] == -asteroid:\n",
    "                stack.pop()\n",
    "                break\n",
    "            else:\n",
    "                stack.pop()\n",
    "                continue\n",
    "        else:\n",
    "            stack.append(asteroid)\n",
    "    return stack\n",
    "\n",
    "# Example usage\n",
    "print(asteroid_collision([-3, -6, 2, 8, 5, -8, 9, -2, 1]))  # Output: [-3, -6, 2, 8, 9, 1]\n",
    "print(asteroid_collision([23, -8, 9, -3, -7, 9, -23, 22]))  # Output: [23, 22]\n",
    "\n",
    "# your algorithm time complexity is:时间复杂度：O(n)。其中 n 是数组 A 的长度，因为算法需要遍历数组中的每个元素一次。"
   ]
  },
  {
   "cell_type": "markdown",
   "metadata": {},
   "source": [
    "## 问题 5 \n",
    "\n",
    "> 给定一个无序数组nums=[9,-3,-10,0,9,7,33]，请建立一个二叉搜索树存储数组中的所有元素，之后删除二叉树中的元素“0”，再使用中序遍历输出二叉搜索树中的所有元素。\n",
    "\n",
    "使用python编程完成上述任务，并计算时间复杂度\n"
   ]
  },
  {
   "cell_type": "code",
   "execution_count": 10,
   "metadata": {},
   "outputs": [
    {
     "name": "stdout",
     "output_type": "stream",
     "text": [
      "[-10, -3, 7, 9, 9, 33]\n"
     ]
    }
   ],
   "source": [
    "# add your idea here\n",
    "#     构建二叉搜索树：遍历数组，将每个元素插入到二叉搜索树中。删除节点：找到值为“0”的节点，并将其删除。中序遍历：遍历二叉搜索树，按照中\n",
    "#     序遍历的顺序输出节点的值。\n",
    "    \n",
    "class TreeNode:\n",
    "    def __init__(self, val=0, left=None, right=None):\n",
    "        self.val = val\n",
    "        self.left = left\n",
    "        self.right = right\n",
    "\n",
    "# 插入值到二叉搜索树中\n",
    "def insertIntoBST(root, val):\n",
    "    if not root:\n",
    "        return TreeNode(val)\n",
    "    if val < root.val:\n",
    "        root.left = insertIntoBST(root.left, val)\n",
    "    else:\n",
    "        root.right = insertIntoBST(root.right, val)\n",
    "    return root\n",
    "\n",
    "# 删除二叉搜索树中的节点\n",
    "def deleteNode(root, key):\n",
    "    if not root:\n",
    "        return root\n",
    "    if key < root.val:\n",
    "        root.left = deleteNode(root.left, key)\n",
    "    elif key > root.val:\n",
    "        root.right = deleteNode(root.right, key)\n",
    "    else:\n",
    "        if not root.left:\n",
    "            return root.right\n",
    "        elif not root.right:\n",
    "            return root.left\n",
    "        temp = findMin(root.right)\n",
    "        root.val = temp.val\n",
    "        root.right = deleteNode(root.right, temp.val)\n",
    "    return root\n",
    "\n",
    "# 查找二叉搜索树中的最小值节点\n",
    "def findMin(node):\n",
    "    while node.left:\n",
    "        node = node.left\n",
    "    return node\n",
    "\n",
    "# 中序遍历二叉树\n",
    "def inorderTraversal(root):\n",
    "    result = []\n",
    "    if root:\n",
    "        result = inorderTraversal(root.left)\n",
    "        result.append(root.val)\n",
    "        result = result + inorderTraversal(root.right)\n",
    "    return result\n",
    "\n",
    "# 辅助函数：从列表创建二叉搜索树\n",
    "def createBST(nums):\n",
    "    root = None\n",
    "    for num in nums:\n",
    "        root = insertIntoBST(root, num)\n",
    "    return root\n",
    "\n",
    "# Example usage\n",
    "nums = [9, -3, -10, 0, 9, 7, 33]\n",
    "root = createBST(nums)\n",
    "root = deleteNode(root, 0)\n",
    "result = inorderTraversal(root)\n",
    "print(result)  # Output: [-10, -3, 7, 9, 9, 33]\n",
    "\n",
    "# your algorithm time complexity is:\n",
    "#     构建BST：O(n log n)，其中 n 是数组的长度。这是因为每次插入操作的时间复杂度为 O(log n)，我们需要进行 n 次插入操作。\n",
    "#     删除节点：O(h)，其中 h 是树的高度。在最坏情况下，这可能是 O(n)，即树退化为链表。\n",
    "#     中序遍历：O(n)，因为我们只需要遍历树中的每个节点一次。"
   ]
  },
  {
   "cell_type": "markdown",
   "metadata": {},
   "source": [
    "## 问题 6  \n",
    "\n",
    "> 给定一个包含大写字母和小写字母的字符串 s ，返回 字符串包含的 **最长的回文子串的长度** 。请注意 区分大小写 。比如 \"Aa\" 不能当做一个回文字符串。\n",
    ">\n",
    "\n",
    "请设计一个算法解决上述问题，只需要输出最长回文子串的长度，分析算法设计思路，计算时间复杂度，并基于python编程实现\n",
    "\n",
    "e.g. 输入： s=\"adccaccd\"，  输出：7。 最长回文子串为：\"dccaccd\", 长度为7\n"
   ]
  },
  {
   "cell_type": "markdown",
   "metadata": {},
   "source": [
    "idea： 初始化一个二维数组 dp，其大小与输入字符串 s 相同，并将所有对角线元素（即单个字符）初始化为 True，因为单个字符总是回文。从长度为2的子串\n",
    "    开始，逐步增加子串长度，检查每个子串是否是回文。对于每个子串，如果第一个和最后一个字符相同，并且去掉这两个字符后的子串也是回文，则该子\n",
    "    串是回文。记录并更新最长回文子串的长度。"
   ]
  },
  {
   "cell_type": "code",
   "execution_count": 11,
   "metadata": {},
   "outputs": [
    {
     "name": "stdout",
     "output_type": "stream",
     "text": [
      "7\n"
     ]
    }
   ],
   "source": [
    "# add your code here\n",
    "   \n",
    "def longest_palindrome(s):\n",
    "    n = len(s)\n",
    "    if n < 2:\n",
    "        return n\n",
    "    \n",
    "    dp = [[False] * n for _ in range(n)]\n",
    "    max_length = 1\n",
    "    \n",
    "    # 所有长度为1的子串都是回文\n",
    "    for i in range(n):\n",
    "        dp[i][i] = True\n",
    "    \n",
    "    # 检查长度为2的子串\n",
    "    for i in range(n-1):\n",
    "        if s[i] == s[i+1]:\n",
    "            dp[i][i+1] = True\n",
    "            max_length = 2\n",
    "    \n",
    "    # 检查长度大于2的子串\n",
    "    for length in range(3, n+1):\n",
    "        for i in range(n-length+1):\n",
    "            j = i + length - 1\n",
    "            if s[i] == s[j] and dp[i+1][j-1]:\n",
    "                dp[i][j] = True\n",
    "                max_length = length\n",
    "    \n",
    "    return max_length\n",
    "\n",
    "# Example usage\n",
    "print(longest_palindrome(\"adccaccd\"))  # Output: 7\n",
    "\n",
    "\n",
    "# your algorithm time complexity is:时间复杂度：O(n^2)，其中 n 是字符串的长度。这是因为我们需要检查所有可能的子串，每个子串的长度从1到n，\n",
    "# 总共有大约 n^2 个子串。"
   ]
  },
  {
   "cell_type": "markdown",
   "metadata": {},
   "source": [
    "## 问题 7 \n",
    "\n",
    "> 沿一条长河流分散着n座房子。你可以把这条河想象成一条轴，房子是由它们在这条轴上的坐标按顺序排列的。你的公司想在河边的特定地点设置手机基站，这样每户人家都在距离基站4公里的范围内。输入可以看作为一个升序数组，数组元素的取值为大于等于0的正整数，你需要输出最小基站的数目，基站的位置。\n",
    "\n",
    "1. 给出一个时间复杂度为$O(n$) 的算法，使所使用的基站数量最小化，分析算法设计思路，使用python编程实现\n",
    "2. 证明1.中算法产生了最优解决方案。\n",
    "\n",
    "e.g. \n",
    "\n",
    "输入： [1, 5, 12, 33, 34,35]  输出：基站数目为3， 基站位置为[1，12，33]\n",
    "\n"
   ]
  },
  {
   "cell_type": "markdown",
   "metadata": {},
   "source": [
    "idea：初始化基站位置列表 stations 为空。从第一个房子开始，依次检查每个房子。对于每个房子，如果它不在任何已确定的基站的覆盖范围内，则在该房子\n",
    "    位置设置一个新的基站，并将该位置加入 stations 列表。继续检查下一个房子，直到所有房子都被检查过。\n",
    "\n"
   ]
  },
  {
   "cell_type": "code",
   "execution_count": 12,
   "metadata": {},
   "outputs": [
    {
     "name": "stdout",
     "output_type": "stream",
     "text": [
      "基站数目为3，基站位置为[1, 12, 33]\n"
     ]
    }
   ],
   "source": [
    "# add your idea here\n",
    "    \n",
    "def min_stations(houses):\n",
    "    stations = []\n",
    "    i = 0\n",
    "    while i < len(houses):\n",
    "        # 设置当前基站的位置\n",
    "        station = houses[i]\n",
    "        stations.append(station)\n",
    "        # 跳过所有在当前基站覆盖范围内的房子\n",
    "        while i < len(houses) and houses[i] <= station + 4:\n",
    "            i += 1\n",
    "    return len(stations), stations\n",
    "\n",
    "# 测试\n",
    "houses = [1, 5, 12, 33, 34, 35]\n",
    "num_stations, stations = min_stations(houses)\n",
    "print(f\"基站数目为{num_stations}，基站位置为{stations}\")\n",
    "\n",
    "\n",
    "# your algorithm time complexity is:\n",
    "#     时间复杂度为 O(n)，可以使用反证法来证明。假设存在更优解，即存在一种方案使用的基站数量更少。由于每个基站的覆盖范围是固定的4公里，那么\n",
    "#     少一个基站就必然会有房子无法被覆盖到。满足不了每户人家都在距离基站4公里的范围内这个条件。由此与算法中每个基站都覆盖到最远的房子的策略\n",
    "#     相矛盾。所以前面给出的算法产生了最优的解决方案。"
   ]
  },
  {
   "cell_type": "markdown",
   "metadata": {},
   "source": [
    "## 问题 8  \n",
    "\n",
    "> 给定由n个正整数组成的一个集合$S = \\{a_1, a_2，···，a_n\\}$和一个正整数W，设计一个算法确定是否存在S的一个子集 $K \\subseteq S$, 使K中所有数之和为 $W$, 如果存在返回“True”，否则返回“False”\n",
    "\n",
    "请设计一个时间复杂度为$O(nW)$动态规划算法，解决上述问题，分析算法的设计思路，并且基于python编程实现（不需要输出子集）。\n",
    "\n",
    "e.g. \n",
    "\n",
    "输入：S = {1,4,7,3,5}， W = 11，输出：True。   因为K可以是{4,7}。\n",
    "\n"
   ]
  },
  {
   "cell_type": "markdown",
   "metadata": {},
   "source": [
    "idea： \n",
    "首先初始化 dp 数组，其中 dp[0][0] = True，表示空集的和为0，其他 dp[0][j] = False。对于每个元素 a_i，更新 dp 数组：\n",
    "\n",
    "如果 dp[i-1][j] = True，则 dp[i][j] = True，表示不包含 a_i 的子集和为 j。\n",
    "\n",
    "如果 dp[i-1][j-a_i] = True，则 dp[i][j] = True，表示包含 a_i 的子集和为 j。\n",
    "        \n",
    "最终，dp[n][W] 表示在集合 S 中是否存在一个子集，使得其元素和为 W。"
   ]
  },
  {
   "cell_type": "code",
   "execution_count": 14,
   "metadata": {},
   "outputs": [
    {
     "name": "stdout",
     "output_type": "stream",
     "text": [
      "True\n"
     ]
    }
   ],
   "source": [
    "# add your code here\n",
    "\n",
    "def subset_sum(S, W):\n",
    "    # 将集合转换为列表\n",
    "    S_list = list(S)\n",
    "    n = len(S_list)\n",
    "    \n",
    "    # 创建一个二维数组 dp，初始化为 False\n",
    "    dp = [[False] * (W + 1) for _ in range(n + 1)]\n",
    "    \n",
    "    # 如果和为0，那么总是有解（选择空集）\n",
    "    for i in range(n + 1):\n",
    "        dp[i][0] = True\n",
    "    \n",
    "    # 填充 dp 数组\n",
    "    for i in range(1, n + 1):\n",
    "        for j in range(1, W + 1):\n",
    "            if j >= S_list[i-1]:  # 如果当前元素小于或等于目标和\n",
    "                dp[i][j] = dp[i-1][j] or dp[i-1][j-S_list[i-1]]\n",
    "            else:\n",
    "                dp[i][j] = dp[i-1][j]\n",
    "    \n",
    "    # 返回是否存在和为 W 的子集\n",
    "    return dp[n][W]\n",
    "\n",
    "# 示例使用\n",
    "S = {3, 34, 4, 12, 5, 2}\n",
    "W = 9\n",
    "print(subset_sum(S, W))  # 输出：True 或 False，取决于是否存在和为 W 的子集\n",
    "\n",
    "# your algorithm time complexity is: O(nW)\n",
    "#     该算法的时间复杂度为 O(nW)，其中 n 是集合 S 的元素个数，W 是目标和。这是因为我们需要遍历 dp 数组的每个元素，而 dp 数组的\n",
    "#     大小为 (n+1)×(W+1)。\n"
   ]
  },
  {
   "cell_type": "markdown",
   "metadata": {},
   "source": [
    "\n",
    "\n",
    "## 问题 9 \n",
    "\n",
    "> 给定一个n个物品的集合。物体的重量为$w_1, w_2，…、w_n$，物品的价值分别是$v_1、v_2、…v_n$。给你**两个**重量为 $c$ 的背包。如果你带了一个东西，它可以放在一个背包里，也可以放在另一个背包里，但不能同时放在两个背包里。所有权重和价值都是正整数。\n",
    "\n",
    "1. 设计一个时间复杂度为 $O(nc^2)$ 的动态规划算法，确定可以放入两个背包的物体的最大价值。分析算法设计思路，并基于python编程实现\n",
    "2. \\* 修改1中的算法，输出每个背包的内容（物品对应下标）。\n",
    "\n",
    "e.g.: \n",
    "\n",
    "输入 V=[1,3,2,5,8,7], W=[1,3,2,5,8,7], c=7, 输出：最大价值=14，背包装的物品为：[6] [4，3] （同一个背包中物品装入顺序对结果无影响）  \n"
   ]
  },
  {
   "cell_type": "markdown",
   "metadata": {},
   "source": [
    "idea：\n",
    "这是一个动态规划问题，我们可以定义dp[i][j][k]表示最后的最大价值，其中i表示考虑前i个物品时，j表示第一个背包的重量，k表示第二个背包的\n",
    "重量。对于i为0的情况，因为没有物品，所以价值均为0.对于每个物品 i（从1到n），需要考虑以下三种情况：\n",
    "\n",
    "    （1）不选择第 i 个物品：dp[i][j][k] = dp[i-1][j][k]；这意味着当前状态的最大价值与前一个状态相同。\n",
    "    \n",
    "    （2）将第 i 个物品放入第一个背包：\n",
    "         前提条件是第一个背包的当前重量 j 足够放下第 i 个物品，即 j >= w_i。\n",
    "         状态转移方程为dp[i][j][k] = max(dp[i][j][k], dp[i-1][j-w_i][k] + v_i)。\n",
    "         这意味着将第 i 个物品放入第一个背包后，更新当前状态的最大价值。\n",
    "    （3）将第 i 个物品放入第二个背包：\n",
    "    \n",
    "         前提条件是第二个背包的当前重量 k 足够放下第 i 个物品，即 k >= w_i。\n",
    "         状态转移方程为dp[i][j][k] = max(dp[i][j][k], dp[i-1][j][k-w_i] + v_i)。\n",
    "         这意味着将第 i 个物品放入第二个背包后，更新当前状态的最大价值。"
   ]
  },
  {
   "cell_type": "code",
   "execution_count": 15,
   "metadata": {},
   "outputs": [
    {
     "name": "stdout",
     "output_type": "stream",
     "text": [
      "最大价值=14\n",
      "背包装的物品为：[6] [4, 3]\n"
     ]
    }
   ],
   "source": [
    "# add your idea here\n",
    "    \n",
    "\n",
    "def max_value_with_two_backpacks_with_items(V, W, c):\n",
    "    n = len(V)\n",
    "    # 初始化动态规划数组\n",
    "    dp = [[[0] * (c + 1) for _ in range(c + 1)] for _ in range(n + 1)]\n",
    "    # 初始化路径记录数组\n",
    "    path = [[[0] * (c + 1) for _ in range(c + 1)] for _ in range(n + 1)]  # 0: 不选，1: 放入第一个背包，2: 放入第二个背包\n",
    "\n",
    "    # 动态规划填表\n",
    "    for i in range(1, n + 1):\n",
    "        for j in range(c + 1):\n",
    "            for k in range(c + 1):\n",
    "                dp[i][j][k] = dp[i - 1][j][k]  # 不选择第i个物品\n",
    "                path[i][j][k] = 0\n",
    "                if j >= W[i - 1] and dp[i - 1][j - W[i - 1]][k] + V[i - 1] > dp[i][j][k]:\n",
    "                    dp[i][j][k] = dp[i - 1][j - W[i - 1]][k] + V[i - 1]\n",
    "                    path[i][j][k] = 1  # 放入第一个背包\n",
    "                if k >= W[i - 1] and dp[i - 1][j][k - W[i - 1]] + V[i - 1] > dp[i][j][k]:\n",
    "                    dp[i][j][k] = dp[i - 1][j][k - W[i - 1]] + V[i - 1]\n",
    "                    path[i][j][k] = 2  # 放入第二个背包\n",
    "\n",
    "    # 回溯找到每个物品的放置位置\n",
    "    j, k = c, c\n",
    "    items_in_backpack1 = []\n",
    "    items_in_backpack2 = []\n",
    "    for i in range(n, 0, -1):\n",
    "        if path[i][j][k] == 1:\n",
    "            items_in_backpack1.append(i)#物品序号从0开始还是从1开始\n",
    "            j -= W[i - 1]\n",
    "        elif path[i][j][k] == 2:\n",
    "            items_in_backpack2.append(i)\n",
    "            k -= W[i - 1]\n",
    "\n",
    "    return dp[n][c][c], items_in_backpack1, items_in_backpack2\n",
    "\n",
    "# 测试\n",
    "V = [1, 3, 2, 5, 8, 7]\n",
    "W = [1, 3, 2, 5, 8, 7]\n",
    "c = 7\n",
    "max_value, backpack1, backpack2 = max_value_with_two_backpacks_with_items(V, W, c)\n",
    "print(f\"最大价值={max_value}\")\n",
    "print(f\"背包装的物品为：{backpack1} {backpack2}\")\n",
    "\n",
    "# your algorithm time complexity is: O(nc^2)\n",
    "#     这个算法的时间复杂度是 O(nc^2)。因为外层循环遍历所有物品，共 n 次。中间两层循环分别遍历两个背包的容量，每个背包的容量为 c，因此两层\n",
    "#     循环的总次数为 c×c=c^2。因此，总的时间复杂度为 O(nc^2)\n"
   ]
  },
  {
   "cell_type": "markdown",
   "metadata": {},
   "source": [
    "## 问题 10 \n",
    "\n",
    "> 给定两个字符串 $x[1..n]$ 和 $y[1..m]$，我们想通过以下操作将 $x$ 变换为 $y$ :\n",
    ">\n",
    "> **插入**：在 $x$ 中插入一个字符(在任何位置)；**删除**：从 $x$ 中删除一个字符(在任何位置)； **替换**：用另一个字符替换 $x$ 中的一个字符。\n",
    ">\n",
    "> 例如: $x = abcd$, $y = bcfe$，\n",
    ">\n",
    "> - 将 $x$ 转换为 $y$ 的一种可能方法是：1. 删除 $x$ 开头的 $a$, $x$变成 $bcd$； 2. 将 $x$ 中的字符 $d$ 替换为字符 $f$。$x$ 变成 $bcf$； 3. 在 $x$ 的末尾插入字符 $e$。$x$ 变成 $bcfe$。\n",
    ">\n",
    "> - 另一种可能的方法：1. 删除 $x$ 开头的 $a$,  $x$ 变成 $bcd$； 2. 在 $x$ 中字符 $d$ 之前插入字符 $f$。$x$ 变成 $bcfd$。3. 将 $x$ 中的字符 $d$ 替换为字符 $e$。$x$ 变成 $bcfe$。\n",
    "\n",
    "设计一个时间复杂度为 $O(mn)$ 的算法，返回将 $x$ 转换为 $y$ 所需的最少操作次数。分析算法设计思路，并基于python编程实现。\n"
   ]
  },
  {
   "cell_type": "markdown",
   "metadata": {},
   "source": [
    "idea：\n",
    "这是一个动态规划问题，我们可以定义dp[i][j] 表示：将字符串 x 的前 i 个字符转换为字符串 y 的前 j 个字符所需的最少操作次数。\n",
    "\n",
    "则如果 x[i−1]==y[j−1]，即当前字符相同，不需要操作，直接继承前一个状态：dp[i][j]=dp[i−1][j−1]。\n",
    "\n",
    "如果 x[i−1]!=y[j−1]：\n",
    "\n",
    "  有三种操作可以选择：\n",
    "  \n",
    "   插入：在 x 中插入一个字符，相当于 x 的前 i 个字符与 y 的前 j−1 个字符的转换：dp[i][j]=dp[i][j−1]+1\n",
    "   \n",
    "   删除：从 x 中删除一个字符，相当于 x 的前 i−1 个字符与 y 的前 j 个字符的转换：dp[i][j]=dp[i−1][j]+1\n",
    "   \n",
    "   替换：用 y[j−1] 替换 x[i−1]，相当于 x 的前 i−1 个字符与 y 的前 j−1 个字符的转换：dp[i][j]=dp[i−1][j−1]+1\n",
    "   \n",
    "  之后取这三种操作的最小值：dp[i][j]=min(dp[i][j−1]+1,dp[i−1][j]+1,dp[i−1][j−1]+1)"
   ]
  },
  {
   "cell_type": "code",
   "execution_count": 16,
   "metadata": {},
   "outputs": [
    {
     "name": "stdout",
     "output_type": "stream",
     "text": [
      "3\n"
     ]
    }
   ],
   "source": [
    "# add your idea here\n",
    "    \n",
    "        \n",
    "def min_edit_distance(x, y):\n",
    "    n = len(x)\n",
    "    m = len(y)\n",
    "    \n",
    "    # 初始化动态规划数组\n",
    "    dp = [[0] * (m + 1) for _ in range(n + 1)]\n",
    "    \n",
    "    # 初始化边界条件\n",
    "    for i in range(n + 1):\n",
    "        dp[i][0] = i  # 删除操作\n",
    "    for j in range(m + 1):\n",
    "        dp[0][j] = j  # 插入操作\n",
    "    \n",
    "    # 填充动态规划表\n",
    "    for i in range(1, n + 1):\n",
    "        for j in range(1, m + 1):\n",
    "            if x[i - 1] == y[j - 1]:\n",
    "                dp[i][j] = dp[i - 1][j - 1]  # 当前字符相同，不需要操作\n",
    "            else:\n",
    "                dp[i][j] = min(\n",
    "                    dp[i][j - 1] + 1,  # 插入操作\n",
    "                    dp[i - 1][j] + 1,  # 删除操作\n",
    "                    dp[i - 1][j - 1] + 1  # 替换操作\n",
    "                )\n",
    "    \n",
    "    return dp[n][m]\n",
    "\n",
    "# 测试\n",
    "x = \"abcd\"\n",
    "y = \"bcfe\"\n",
    "print(min_edit_distance(x, y))  # 输出：3\n",
    "\n",
    "\n",
    "# your algorithm time complexity is: O(mn)\n",
    "#     时间复杂度是O(mn)，其中 m 和 n 分别是字符串 x 和 y 的长度。这是因为我们需要遍历整个 (n+1)×(m+1) 的动态规划表。\n"
   ]
  }
 ],
 "metadata": {
  "kernelspec": {
   "display_name": "Python 3",
   "language": "python",
   "name": "python3"
  },
  "language_info": {
   "codemirror_mode": {
    "name": "ipython",
    "version": 3
   },
   "file_extension": ".py",
   "mimetype": "text/x-python",
   "name": "python",
   "nbconvert_exporter": "python",
   "pygments_lexer": "ipython3",
   "version": "3.7.0"
  }
 },
 "nbformat": 4,
 "nbformat_minor": 2
}
